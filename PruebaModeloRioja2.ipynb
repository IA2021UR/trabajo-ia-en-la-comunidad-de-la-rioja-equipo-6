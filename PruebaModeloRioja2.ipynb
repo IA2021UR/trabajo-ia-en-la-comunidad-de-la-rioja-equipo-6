{
  "nbformat": 4,
  "nbformat_minor": 0,
  "metadata": {
    "colab": {
      "name": "Untitled7.ipynb",
      "provenance": [],
      "authorship_tag": "ABX9TyM9KgeBr4FdgOEOWOoL2qpf",
      "include_colab_link": true
    },
    "kernelspec": {
      "name": "python3",
      "display_name": "Python 3"
    },
    "language_info": {
      "name": "python"
    }
  },
  "cells": [
    {
      "cell_type": "markdown",
      "metadata": {
        "id": "view-in-github",
        "colab_type": "text"
      },
      "source": [
        "<a href=\"https://colab.research.google.com/github/IA2021UR/trabajo-ia-en-la-comunidad-de-la-rioja-equipo-6/blob/main/PruebaModeloRioja2.ipynb\" target=\"_parent\"><img src=\"https://colab.research.google.com/assets/colab-badge.svg\" alt=\"Open In Colab\"/></a>"
      ]
    },
    {
      "cell_type": "code",
      "metadata": {
        "colab": {
          "base_uri": "https://localhost:8080/"
        },
        "id": "PRBFsHHGRIlo",
        "outputId": "912c2bd8-b536-4e75-f859-4ce1c18faff5"
      },
      "source": [
        "!pip install semtorch"
      ],
      "execution_count": 1,
      "outputs": [
        {
          "output_type": "stream",
          "text": [
            "Collecting semtorch\n",
            "\u001b[?25l  Downloading https://files.pythonhosted.org/packages/78/59/e41afbd4cf5f8bcbf6d0b8117f60586e87f9053610fcb262d2af950ab7b4/SemTorch-0.1.1.tar.gz (41kB)\n",
            "\u001b[K     |████████████████████████████████| 51kB 6.9MB/s \n",
            "\u001b[?25hRequirement already satisfied: numpy<2.0.0,>=1.18.5 in /usr/local/lib/python3.7/dist-packages (from semtorch) (1.19.5)\n",
            "Collecting scikit-image<1.0.0,>=0.17.2\n",
            "\u001b[?25l  Downloading https://files.pythonhosted.org/packages/fe/01/3a830f3df578ea3ed94ee7fd9f91e85c3dec2431d8548ab1c91869e51450/scikit_image-0.18.1-cp37-cp37m-manylinux1_x86_64.whl (29.2MB)\n",
            "\u001b[K     |████████████████████████████████| 29.2MB 138kB/s \n",
            "\u001b[?25hRequirement already satisfied: matplotlib in /usr/local/lib/python3.7/dist-packages (from semtorch) (3.2.2)\n",
            "Requirement already satisfied: ipython in /usr/local/lib/python3.7/dist-packages (from semtorch) (5.5.0)\n",
            "Requirement already satisfied: torch<2.0.0,>=1.6.0 in /usr/local/lib/python3.7/dist-packages (from semtorch) (1.8.1+cu101)\n",
            "Requirement already satisfied: torchvision<1.0.0,>=0.7.0 in /usr/local/lib/python3.7/dist-packages (from semtorch) (0.9.1+cu101)\n",
            "Collecting fastai<3.0.0,>=2.0.0\n",
            "\u001b[?25l  Downloading https://files.pythonhosted.org/packages/e8/79/e8a87e4c20238e114671314426227db8647d2b42744eab79e0917c59865e/fastai-2.3.1-py3-none-any.whl (194kB)\n",
            "\u001b[K     |████████████████████████████████| 204kB 59.7MB/s \n",
            "\u001b[?25hRequirement already satisfied: tqdm in /usr/local/lib/python3.7/dist-packages (from semtorch) (4.41.1)\n",
            "Requirement already satisfied: PyWavelets>=1.1.1 in /usr/local/lib/python3.7/dist-packages (from scikit-image<1.0.0,>=0.17.2->semtorch) (1.1.1)\n",
            "Requirement already satisfied: scipy>=1.0.1 in /usr/local/lib/python3.7/dist-packages (from scikit-image<1.0.0,>=0.17.2->semtorch) (1.4.1)\n",
            "Requirement already satisfied: imageio>=2.3.0 in /usr/local/lib/python3.7/dist-packages (from scikit-image<1.0.0,>=0.17.2->semtorch) (2.4.1)\n",
            "Requirement already satisfied: networkx>=2.0 in /usr/local/lib/python3.7/dist-packages (from scikit-image<1.0.0,>=0.17.2->semtorch) (2.5.1)\n",
            "Requirement already satisfied: pillow!=7.1.0,!=7.1.1,>=4.3.0 in /usr/local/lib/python3.7/dist-packages (from scikit-image<1.0.0,>=0.17.2->semtorch) (7.1.2)\n",
            "Requirement already satisfied: tifffile>=2019.7.26 in /usr/local/lib/python3.7/dist-packages (from scikit-image<1.0.0,>=0.17.2->semtorch) (2021.4.8)\n",
            "Requirement already satisfied: python-dateutil>=2.1 in /usr/local/lib/python3.7/dist-packages (from matplotlib->semtorch) (2.8.1)\n",
            "Requirement already satisfied: cycler>=0.10 in /usr/local/lib/python3.7/dist-packages (from matplotlib->semtorch) (0.10.0)\n",
            "Requirement already satisfied: pyparsing!=2.0.4,!=2.1.2,!=2.1.6,>=2.0.1 in /usr/local/lib/python3.7/dist-packages (from matplotlib->semtorch) (2.4.7)\n",
            "Requirement already satisfied: kiwisolver>=1.0.1 in /usr/local/lib/python3.7/dist-packages (from matplotlib->semtorch) (1.3.1)\n",
            "Requirement already satisfied: pygments in /usr/local/lib/python3.7/dist-packages (from ipython->semtorch) (2.6.1)\n",
            "Requirement already satisfied: setuptools>=18.5 in /usr/local/lib/python3.7/dist-packages (from ipython->semtorch) (56.1.0)\n",
            "Requirement already satisfied: decorator in /usr/local/lib/python3.7/dist-packages (from ipython->semtorch) (4.4.2)\n",
            "Requirement already satisfied: pexpect; sys_platform != \"win32\" in /usr/local/lib/python3.7/dist-packages (from ipython->semtorch) (4.8.0)\n",
            "Requirement already satisfied: traitlets>=4.2 in /usr/local/lib/python3.7/dist-packages (from ipython->semtorch) (5.0.5)\n",
            "Requirement already satisfied: simplegeneric>0.8 in /usr/local/lib/python3.7/dist-packages (from ipython->semtorch) (0.8.1)\n",
            "Requirement already satisfied: prompt-toolkit<2.0.0,>=1.0.4 in /usr/local/lib/python3.7/dist-packages (from ipython->semtorch) (1.0.18)\n",
            "Requirement already satisfied: pickleshare in /usr/local/lib/python3.7/dist-packages (from ipython->semtorch) (0.7.5)\n",
            "Requirement already satisfied: typing-extensions in /usr/local/lib/python3.7/dist-packages (from torch<2.0.0,>=1.6.0->semtorch) (3.7.4.3)\n",
            "Requirement already satisfied: pip in /usr/local/lib/python3.7/dist-packages (from fastai<3.0.0,>=2.0.0->semtorch) (19.3.1)\n",
            "Requirement already satisfied: pandas in /usr/local/lib/python3.7/dist-packages (from fastai<3.0.0,>=2.0.0->semtorch) (1.1.5)\n",
            "Requirement already satisfied: pyyaml in /usr/local/lib/python3.7/dist-packages (from fastai<3.0.0,>=2.0.0->semtorch) (3.13)\n",
            "Requirement already satisfied: packaging in /usr/local/lib/python3.7/dist-packages (from fastai<3.0.0,>=2.0.0->semtorch) (20.9)\n",
            "Requirement already satisfied: fastprogress>=0.2.4 in /usr/local/lib/python3.7/dist-packages (from fastai<3.0.0,>=2.0.0->semtorch) (1.0.0)\n",
            "Collecting fastcore<1.4,>=1.3.8\n",
            "\u001b[?25l  Downloading https://files.pythonhosted.org/packages/d8/b0/f1fbf554e0bf3c76e1bdc3b82eedfe41fcf656479586be38c64421082b1b/fastcore-1.3.20-py3-none-any.whl (53kB)\n",
            "\u001b[K     |████████████████████████████████| 61kB 8.2MB/s \n",
            "\u001b[?25hRequirement already satisfied: requests in /usr/local/lib/python3.7/dist-packages (from fastai<3.0.0,>=2.0.0->semtorch) (2.23.0)\n",
            "Requirement already satisfied: scikit-learn in /usr/local/lib/python3.7/dist-packages (from fastai<3.0.0,>=2.0.0->semtorch) (0.22.2.post1)\n",
            "Requirement already satisfied: spacy<4 in /usr/local/lib/python3.7/dist-packages (from fastai<3.0.0,>=2.0.0->semtorch) (2.2.4)\n",
            "Requirement already satisfied: six>=1.5 in /usr/local/lib/python3.7/dist-packages (from python-dateutil>=2.1->matplotlib->semtorch) (1.15.0)\n",
            "Requirement already satisfied: ptyprocess>=0.5 in /usr/local/lib/python3.7/dist-packages (from pexpect; sys_platform != \"win32\"->ipython->semtorch) (0.7.0)\n",
            "Requirement already satisfied: ipython-genutils in /usr/local/lib/python3.7/dist-packages (from traitlets>=4.2->ipython->semtorch) (0.2.0)\n",
            "Requirement already satisfied: wcwidth in /usr/local/lib/python3.7/dist-packages (from prompt-toolkit<2.0.0,>=1.0.4->ipython->semtorch) (0.2.5)\n",
            "Requirement already satisfied: pytz>=2017.2 in /usr/local/lib/python3.7/dist-packages (from pandas->fastai<3.0.0,>=2.0.0->semtorch) (2018.9)\n",
            "Requirement already satisfied: chardet<4,>=3.0.2 in /usr/local/lib/python3.7/dist-packages (from requests->fastai<3.0.0,>=2.0.0->semtorch) (3.0.4)\n",
            "Requirement already satisfied: idna<3,>=2.5 in /usr/local/lib/python3.7/dist-packages (from requests->fastai<3.0.0,>=2.0.0->semtorch) (2.10)\n",
            "Requirement already satisfied: urllib3!=1.25.0,!=1.25.1,<1.26,>=1.21.1 in /usr/local/lib/python3.7/dist-packages (from requests->fastai<3.0.0,>=2.0.0->semtorch) (1.24.3)\n",
            "Requirement already satisfied: certifi>=2017.4.17 in /usr/local/lib/python3.7/dist-packages (from requests->fastai<3.0.0,>=2.0.0->semtorch) (2020.12.5)\n",
            "Requirement already satisfied: joblib>=0.11 in /usr/local/lib/python3.7/dist-packages (from scikit-learn->fastai<3.0.0,>=2.0.0->semtorch) (1.0.1)\n",
            "Requirement already satisfied: catalogue<1.1.0,>=0.0.7 in /usr/local/lib/python3.7/dist-packages (from spacy<4->fastai<3.0.0,>=2.0.0->semtorch) (1.0.0)\n",
            "Requirement already satisfied: blis<0.5.0,>=0.4.0 in /usr/local/lib/python3.7/dist-packages (from spacy<4->fastai<3.0.0,>=2.0.0->semtorch) (0.4.1)\n",
            "Requirement already satisfied: wasabi<1.1.0,>=0.4.0 in /usr/local/lib/python3.7/dist-packages (from spacy<4->fastai<3.0.0,>=2.0.0->semtorch) (0.8.2)\n",
            "Requirement already satisfied: murmurhash<1.1.0,>=0.28.0 in /usr/local/lib/python3.7/dist-packages (from spacy<4->fastai<3.0.0,>=2.0.0->semtorch) (1.0.5)\n",
            "Requirement already satisfied: plac<1.2.0,>=0.9.6 in /usr/local/lib/python3.7/dist-packages (from spacy<4->fastai<3.0.0,>=2.0.0->semtorch) (1.1.3)\n",
            "Requirement already satisfied: cymem<2.1.0,>=2.0.2 in /usr/local/lib/python3.7/dist-packages (from spacy<4->fastai<3.0.0,>=2.0.0->semtorch) (2.0.5)\n",
            "Requirement already satisfied: thinc==7.4.0 in /usr/local/lib/python3.7/dist-packages (from spacy<4->fastai<3.0.0,>=2.0.0->semtorch) (7.4.0)\n",
            "Requirement already satisfied: preshed<3.1.0,>=3.0.2 in /usr/local/lib/python3.7/dist-packages (from spacy<4->fastai<3.0.0,>=2.0.0->semtorch) (3.0.5)\n",
            "Requirement already satisfied: srsly<1.1.0,>=1.0.2 in /usr/local/lib/python3.7/dist-packages (from spacy<4->fastai<3.0.0,>=2.0.0->semtorch) (1.0.5)\n",
            "Requirement already satisfied: importlib-metadata>=0.20; python_version < \"3.8\" in /usr/local/lib/python3.7/dist-packages (from catalogue<1.1.0,>=0.0.7->spacy<4->fastai<3.0.0,>=2.0.0->semtorch) (4.0.1)\n",
            "Requirement already satisfied: zipp>=0.5 in /usr/local/lib/python3.7/dist-packages (from importlib-metadata>=0.20; python_version < \"3.8\"->catalogue<1.1.0,>=0.0.7->spacy<4->fastai<3.0.0,>=2.0.0->semtorch) (3.4.1)\n",
            "Building wheels for collected packages: semtorch\n",
            "  Building wheel for semtorch (setup.py) ... \u001b[?25l\u001b[?25hdone\n",
            "  Created wheel for semtorch: filename=SemTorch-0.1.1-cp37-none-any.whl size=50551 sha256=2f2b5912f141fb720be23554124dcf3a485bfdec452bdfba7fea26cd04920826\n",
            "  Stored in directory: /root/.cache/pip/wheels/f6/da/9f/726f9d2f054d71afa59afeca3f4672464001e9e3f2924d959e\n",
            "Successfully built semtorch\n",
            "\u001b[31mERROR: albumentations 0.1.12 has requirement imgaug<0.2.7,>=0.2.5, but you'll have imgaug 0.2.9 which is incompatible.\u001b[0m\n",
            "Installing collected packages: scikit-image, fastcore, fastai, semtorch\n",
            "  Found existing installation: scikit-image 0.16.2\n",
            "    Uninstalling scikit-image-0.16.2:\n",
            "      Successfully uninstalled scikit-image-0.16.2\n",
            "  Found existing installation: fastai 1.0.61\n",
            "    Uninstalling fastai-1.0.61:\n",
            "      Successfully uninstalled fastai-1.0.61\n",
            "Successfully installed fastai-2.3.1 fastcore-1.3.20 scikit-image-0.18.1 semtorch-0.1.1\n"
          ],
          "name": "stdout"
        }
      ]
    },
    {
      "cell_type": "code",
      "metadata": {
        "colab": {
          "base_uri": "https://localhost:8080/"
        },
        "id": "R23lXuchR7h5",
        "outputId": "5a99e761-5090-4f0b-ab87-9852a4ea7528"
      },
      "source": [
        "!pip install fastai --upgrade"
      ],
      "execution_count": 2,
      "outputs": [
        {
          "output_type": "stream",
          "text": [
            "Requirement already up-to-date: fastai in /usr/local/lib/python3.7/dist-packages (2.3.1)\n",
            "Requirement already satisfied, skipping upgrade: scipy in /usr/local/lib/python3.7/dist-packages (from fastai) (1.4.1)\n",
            "Requirement already satisfied, skipping upgrade: pandas in /usr/local/lib/python3.7/dist-packages (from fastai) (1.1.5)\n",
            "Requirement already satisfied, skipping upgrade: torch<1.9,>=1.7.0 in /usr/local/lib/python3.7/dist-packages (from fastai) (1.8.1+cu101)\n",
            "Requirement already satisfied, skipping upgrade: torchvision>=0.8.2 in /usr/local/lib/python3.7/dist-packages (from fastai) (0.9.1+cu101)\n",
            "Requirement already satisfied, skipping upgrade: pip in /usr/local/lib/python3.7/dist-packages (from fastai) (19.3.1)\n",
            "Requirement already satisfied, skipping upgrade: pillow>6.0.0 in /usr/local/lib/python3.7/dist-packages (from fastai) (7.1.2)\n",
            "Requirement already satisfied, skipping upgrade: requests in /usr/local/lib/python3.7/dist-packages (from fastai) (2.23.0)\n",
            "Requirement already satisfied, skipping upgrade: packaging in /usr/local/lib/python3.7/dist-packages (from fastai) (20.9)\n",
            "Requirement already satisfied, skipping upgrade: pyyaml in /usr/local/lib/python3.7/dist-packages (from fastai) (3.13)\n",
            "Requirement already satisfied, skipping upgrade: fastprogress>=0.2.4 in /usr/local/lib/python3.7/dist-packages (from fastai) (1.0.0)\n",
            "Requirement already satisfied, skipping upgrade: spacy<4 in /usr/local/lib/python3.7/dist-packages (from fastai) (2.2.4)\n",
            "Requirement already satisfied, skipping upgrade: matplotlib in /usr/local/lib/python3.7/dist-packages (from fastai) (3.2.2)\n",
            "Requirement already satisfied, skipping upgrade: fastcore<1.4,>=1.3.8 in /usr/local/lib/python3.7/dist-packages (from fastai) (1.3.20)\n",
            "Requirement already satisfied, skipping upgrade: scikit-learn in /usr/local/lib/python3.7/dist-packages (from fastai) (0.22.2.post1)\n",
            "Requirement already satisfied, skipping upgrade: numpy>=1.13.3 in /usr/local/lib/python3.7/dist-packages (from scipy->fastai) (1.19.5)\n",
            "Requirement already satisfied, skipping upgrade: python-dateutil>=2.7.3 in /usr/local/lib/python3.7/dist-packages (from pandas->fastai) (2.8.1)\n",
            "Requirement already satisfied, skipping upgrade: pytz>=2017.2 in /usr/local/lib/python3.7/dist-packages (from pandas->fastai) (2018.9)\n",
            "Requirement already satisfied, skipping upgrade: typing-extensions in /usr/local/lib/python3.7/dist-packages (from torch<1.9,>=1.7.0->fastai) (3.7.4.3)\n",
            "Requirement already satisfied, skipping upgrade: idna<3,>=2.5 in /usr/local/lib/python3.7/dist-packages (from requests->fastai) (2.10)\n",
            "Requirement already satisfied, skipping upgrade: chardet<4,>=3.0.2 in /usr/local/lib/python3.7/dist-packages (from requests->fastai) (3.0.4)\n",
            "Requirement already satisfied, skipping upgrade: certifi>=2017.4.17 in /usr/local/lib/python3.7/dist-packages (from requests->fastai) (2020.12.5)\n",
            "Requirement already satisfied, skipping upgrade: urllib3!=1.25.0,!=1.25.1,<1.26,>=1.21.1 in /usr/local/lib/python3.7/dist-packages (from requests->fastai) (1.24.3)\n",
            "Requirement already satisfied, skipping upgrade: pyparsing>=2.0.2 in /usr/local/lib/python3.7/dist-packages (from packaging->fastai) (2.4.7)\n",
            "Requirement already satisfied, skipping upgrade: murmurhash<1.1.0,>=0.28.0 in /usr/local/lib/python3.7/dist-packages (from spacy<4->fastai) (1.0.5)\n",
            "Requirement already satisfied, skipping upgrade: tqdm<5.0.0,>=4.38.0 in /usr/local/lib/python3.7/dist-packages (from spacy<4->fastai) (4.41.1)\n",
            "Requirement already satisfied, skipping upgrade: preshed<3.1.0,>=3.0.2 in /usr/local/lib/python3.7/dist-packages (from spacy<4->fastai) (3.0.5)\n",
            "Requirement already satisfied, skipping upgrade: thinc==7.4.0 in /usr/local/lib/python3.7/dist-packages (from spacy<4->fastai) (7.4.0)\n",
            "Requirement already satisfied, skipping upgrade: cymem<2.1.0,>=2.0.2 in /usr/local/lib/python3.7/dist-packages (from spacy<4->fastai) (2.0.5)\n",
            "Requirement already satisfied, skipping upgrade: setuptools in /usr/local/lib/python3.7/dist-packages (from spacy<4->fastai) (56.1.0)\n",
            "Requirement already satisfied, skipping upgrade: catalogue<1.1.0,>=0.0.7 in /usr/local/lib/python3.7/dist-packages (from spacy<4->fastai) (1.0.0)\n",
            "Requirement already satisfied, skipping upgrade: plac<1.2.0,>=0.9.6 in /usr/local/lib/python3.7/dist-packages (from spacy<4->fastai) (1.1.3)\n",
            "Requirement already satisfied, skipping upgrade: blis<0.5.0,>=0.4.0 in /usr/local/lib/python3.7/dist-packages (from spacy<4->fastai) (0.4.1)\n",
            "Requirement already satisfied, skipping upgrade: srsly<1.1.0,>=1.0.2 in /usr/local/lib/python3.7/dist-packages (from spacy<4->fastai) (1.0.5)\n",
            "Requirement already satisfied, skipping upgrade: wasabi<1.1.0,>=0.4.0 in /usr/local/lib/python3.7/dist-packages (from spacy<4->fastai) (0.8.2)\n",
            "Requirement already satisfied, skipping upgrade: cycler>=0.10 in /usr/local/lib/python3.7/dist-packages (from matplotlib->fastai) (0.10.0)\n",
            "Requirement already satisfied, skipping upgrade: kiwisolver>=1.0.1 in /usr/local/lib/python3.7/dist-packages (from matplotlib->fastai) (1.3.1)\n",
            "Requirement already satisfied, skipping upgrade: joblib>=0.11 in /usr/local/lib/python3.7/dist-packages (from scikit-learn->fastai) (1.0.1)\n",
            "Requirement already satisfied, skipping upgrade: six>=1.5 in /usr/local/lib/python3.7/dist-packages (from python-dateutil>=2.7.3->pandas->fastai) (1.15.0)\n",
            "Requirement already satisfied, skipping upgrade: importlib-metadata>=0.20; python_version < \"3.8\" in /usr/local/lib/python3.7/dist-packages (from catalogue<1.1.0,>=0.0.7->spacy<4->fastai) (4.0.1)\n",
            "Requirement already satisfied, skipping upgrade: zipp>=0.5 in /usr/local/lib/python3.7/dist-packages (from importlib-metadata>=0.20; python_version < \"3.8\"->catalogue<1.1.0,>=0.0.7->spacy<4->fastai) (3.4.1)\n"
          ],
          "name": "stdout"
        }
      ]
    },
    {
      "cell_type": "code",
      "metadata": {
        "colab": {
          "base_uri": "https://localhost:8080/"
        },
        "id": "qo1x6mOaR8zu",
        "outputId": "ea5e912a-8efd-4631-f488-680e44eb69a2"
      },
      "source": [
        "from fastai.basics import *\n",
        "from fastai.vision import models\n",
        "from fastai.vision.all import *\n",
        "from fastai.metrics import *\n",
        "from fastai.data.all import *\n",
        "from fastai.callback import *\n",
        "\n",
        "\n",
        "from pathlib import Path\n",
        "import random\n",
        "from semtorch import get_segmentation_learner"
      ],
      "execution_count": 3,
      "outputs": [
        {
          "output_type": "stream",
          "text": [
            "/usr/local/lib/python3.7/dist-packages/torch/nn/_reduction.py:42: UserWarning: size_average and reduce args will be deprecated, please use reduction='mean' instead.\n",
            "  warnings.warn(warning.format(ret))\n"
          ],
          "name": "stderr"
        }
      ]
    },
    {
      "cell_type": "code",
      "metadata": {
        "colab": {
          "base_uri": "https://localhost:8080/"
        },
        "id": "IRcZTYvfSKRg",
        "outputId": "684913e1-2c5f-4d5e-cb34-eee94351e903"
      },
      "source": [
        "!wget https://www.dropbox.com/s/d18cyp95ovmldj1/dataset_final.zip?dl=0 -O dataset.zip"
      ],
      "execution_count": 4,
      "outputs": [
        {
          "output_type": "stream",
          "text": [
            "--2021-05-30 09:18:10--  https://www.dropbox.com/s/d18cyp95ovmldj1/dataset_final.zip?dl=0\n",
            "Resolving www.dropbox.com (www.dropbox.com)... 162.125.6.18, 2620:100:601c:18::a27d:612\n",
            "Connecting to www.dropbox.com (www.dropbox.com)|162.125.6.18|:443... connected.\n",
            "HTTP request sent, awaiting response... 301 Moved Permanently\n",
            "Location: /s/raw/d18cyp95ovmldj1/dataset_final.zip [following]\n",
            "--2021-05-30 09:18:10--  https://www.dropbox.com/s/raw/d18cyp95ovmldj1/dataset_final.zip\n",
            "Reusing existing connection to www.dropbox.com:443.\n",
            "HTTP request sent, awaiting response... 302 Found\n",
            "Location: https://ucd3b362eb79e8f3bcf8f4a3a66d.dl.dropboxusercontent.com/cd/0/inline/BPe3AHFEH-06y0kiAOxHvOF-TbCFEWv3tNyYieKfkY1Phr_0C6qvxcu0PWX4fiZSQK3thRb-j5dWNgf430hspsBhoShDII3xaG8RRENxn4jICy3kg_MFAFJRaeOkaYWTjXcJ8f23xLlGydg7KzCRuZAO/file# [following]\n",
            "--2021-05-30 09:18:13--  https://ucd3b362eb79e8f3bcf8f4a3a66d.dl.dropboxusercontent.com/cd/0/inline/BPe3AHFEH-06y0kiAOxHvOF-TbCFEWv3tNyYieKfkY1Phr_0C6qvxcu0PWX4fiZSQK3thRb-j5dWNgf430hspsBhoShDII3xaG8RRENxn4jICy3kg_MFAFJRaeOkaYWTjXcJ8f23xLlGydg7KzCRuZAO/file\n",
            "Resolving ucd3b362eb79e8f3bcf8f4a3a66d.dl.dropboxusercontent.com (ucd3b362eb79e8f3bcf8f4a3a66d.dl.dropboxusercontent.com)... 162.125.6.15, 2620:100:6019:15::a27d:40f\n",
            "Connecting to ucd3b362eb79e8f3bcf8f4a3a66d.dl.dropboxusercontent.com (ucd3b362eb79e8f3bcf8f4a3a66d.dl.dropboxusercontent.com)|162.125.6.15|:443... connected.\n",
            "HTTP request sent, awaiting response... 302 Found\n",
            "Location: /cd/0/inline2/BPe6q8iJHa-lPW5x3zA5g4LjW1ByK1kaERxRBnkDsRMT9IPQ7sSZD4hTHG6wmv_Lw0tZLrbpKiP93GgbWrv70PKfCbzs0EeZWcyqM0K2msfGZu9aY_kS2FIwZ1FxpSK_wGK1o-YwRzNTPfmeYxoFzA0_mudg77LKza6eOxu0UjcXE8nXxmKF7eUZpuID_oBheWu9k3Oqerff4J9YxG5Qf_MVuc2vLX1x7Z2nbkHAQDJf1Jb1_bNExt196kIcLQpxV3WwsyEbKcqCkg5I-IT26DdsxaVB28dtAJiDuPB3INbP7WpkMa0VaPs32sOkIlSwMK-FdwJiq6ySjATWLEG38jzrPhBGucrnrvsqCkAuT2281KcYh2nZ1_a7j5zZK9kgaKY/file [following]\n",
            "--2021-05-30 09:18:13--  https://ucd3b362eb79e8f3bcf8f4a3a66d.dl.dropboxusercontent.com/cd/0/inline2/BPe6q8iJHa-lPW5x3zA5g4LjW1ByK1kaERxRBnkDsRMT9IPQ7sSZD4hTHG6wmv_Lw0tZLrbpKiP93GgbWrv70PKfCbzs0EeZWcyqM0K2msfGZu9aY_kS2FIwZ1FxpSK_wGK1o-YwRzNTPfmeYxoFzA0_mudg77LKza6eOxu0UjcXE8nXxmKF7eUZpuID_oBheWu9k3Oqerff4J9YxG5Qf_MVuc2vLX1x7Z2nbkHAQDJf1Jb1_bNExt196kIcLQpxV3WwsyEbKcqCkg5I-IT26DdsxaVB28dtAJiDuPB3INbP7WpkMa0VaPs32sOkIlSwMK-FdwJiq6ySjATWLEG38jzrPhBGucrnrvsqCkAuT2281KcYh2nZ1_a7j5zZK9kgaKY/file\n",
            "Reusing existing connection to ucd3b362eb79e8f3bcf8f4a3a66d.dl.dropboxusercontent.com:443.\n",
            "HTTP request sent, awaiting response... 200 OK\n",
            "Length: 60935608 (58M) [application/zip]\n",
            "Saving to: ‘dataset.zip’\n",
            "\n",
            "dataset.zip         100%[===================>]  58.11M   200MB/s    in 0.3s    \n",
            "\n",
            "2021-05-30 09:18:13 (200 MB/s) - ‘dataset.zip’ saved [60935608/60935608]\n",
            "\n"
          ],
          "name": "stdout"
        }
      ]
    },
    {
      "cell_type": "code",
      "metadata": {
        "colab": {
          "base_uri": "https://localhost:8080/"
        },
        "id": "2qOfnVEdSUXZ",
        "outputId": "50f3f6b8-bf5f-46b2-fe81-cd30c22c7a63"
      },
      "source": [
        "!unzip dataset.zip"
      ],
      "execution_count": 5,
      "outputs": [
        {
          "output_type": "stream",
          "text": [
            "Archive:  dataset.zip\n",
            "   creating: dataset_prueba_RIOJA/\n",
            " extracting: dataset_prueba_RIOJA/codes.txt  \n",
            "   creating: dataset_prueba_RIOJA/Images/\n",
            "   creating: dataset_prueba_RIOJA/Images/test/\n",
            " extracting: dataset_prueba_RIOJA/Images/test/foto1.jpg  \n",
            "   creating: dataset_prueba_RIOJA/Images/train/\n",
            "  inflating: dataset_prueba_RIOJA/Images/train/22678915_15.tiff  \n",
            "  inflating: dataset_prueba_RIOJA/Images/train/22678930_15.tiff  \n",
            "  inflating: dataset_prueba_RIOJA/Images/train/22678945_15.tiff  \n",
            "  inflating: dataset_prueba_RIOJA/Images/train/22678960_15.tiff  \n",
            "  inflating: dataset_prueba_RIOJA/Images/train/22678975_15.tiff  \n",
            "  inflating: dataset_prueba_RIOJA/Images/train/22678990_15.tiff  \n",
            "  inflating: dataset_prueba_RIOJA/Images/train/22679005_15.tiff  \n",
            "  inflating: dataset_prueba_RIOJA/Images/train/22679020_15.tiff  \n",
            "   creating: dataset_prueba_RIOJA/Images/val/\n",
            "  inflating: dataset_prueba_RIOJA/Images/val/22978945_15.tiff  \n",
            "  inflating: dataset_prueba_RIOJA/Images/val/23429155_15.tiff  \n",
            "   creating: dataset_prueba_RIOJA/Labels/\n",
            "   creating: dataset_prueba_RIOJA/Labels/test/\n",
            "   creating: dataset_prueba_RIOJA/Labels/train/\n",
            "  inflating: dataset_prueba_RIOJA/Labels/train/22678915_15.tif  \n",
            "  inflating: dataset_prueba_RIOJA/Labels/train/22678930_15.tif  \n",
            "  inflating: dataset_prueba_RIOJA/Labels/train/22678945_15.tif  \n",
            "  inflating: dataset_prueba_RIOJA/Labels/train/22678960_15.tif  \n",
            "  inflating: dataset_prueba_RIOJA/Labels/train/22678975_15.tif  \n",
            "  inflating: dataset_prueba_RIOJA/Labels/train/22678990_15.tif  \n",
            "  inflating: dataset_prueba_RIOJA/Labels/train/22679005_15.tif  \n",
            "  inflating: dataset_prueba_RIOJA/Labels/train/22679020_15.tif  \n",
            "   creating: dataset_prueba_RIOJA/Labels/val/\n",
            "  inflating: dataset_prueba_RIOJA/Labels/val/22978945_15.tif  \n",
            "  inflating: dataset_prueba_RIOJA/Labels/val/23429155_15.tif  \n"
          ],
          "name": "stdout"
        }
      ]
    },
    {
      "cell_type": "code",
      "metadata": {
        "id": "BBL7mXP4SXKZ"
      },
      "source": [
        "path=Path('dataset_prueba_RIOJA/')"
      ],
      "execution_count": 6,
      "outputs": []
    },
    {
      "cell_type": "code",
      "metadata": {
        "id": "DjzmhGHFSYJU"
      },
      "source": [
        "import cv2\n",
        "import matplotlib.pyplot as plt\n",
        "import numpy as np\n",
        "%matplotlib inline"
      ],
      "execution_count": 7,
      "outputs": []
    },
    {
      "cell_type": "code",
      "metadata": {
        "colab": {
          "base_uri": "https://localhost:8080/"
        },
        "id": "wv4YdWQUSkbH",
        "outputId": "63f0df74-7d7a-4b28-ca72-1afc6a24cbe8"
      },
      "source": [
        "imagen = cv2.imread('dataset_prueba_RIOJA/Images/test/foto1.jpg', cv2.IMREAD_UNCHANGED)\n",
        "dsize = (1500, 1500)\n",
        "output = cv2.resize(imagen, dsize)\n",
        "cv2.imwrite('dataset_prueba_RIOJA/Images/test/foto1.jpg', output) "
      ],
      "execution_count": 8,
      "outputs": [
        {
          "output_type": "execute_result",
          "data": {
            "text/plain": [
              "True"
            ]
          },
          "metadata": {
            "tags": []
          },
          "execution_count": 8
        }
      ]
    },
    {
      "cell_type": "code",
      "metadata": {
        "colab": {
          "base_uri": "https://localhost:8080/"
        },
        "id": "WCz54J3sX6Dg",
        "outputId": "b1c553d7-ef6b-41c8-80f9-580f3db41a74"
      },
      "source": [
        "output.shape"
      ],
      "execution_count": 9,
      "outputs": [
        {
          "output_type": "execute_result",
          "data": {
            "text/plain": [
              "(1500, 1500, 3)"
            ]
          },
          "metadata": {
            "tags": []
          },
          "execution_count": 9
        }
      ]
    },
    {
      "cell_type": "code",
      "metadata": {
        "id": "Lj3q-cjtSa2L"
      },
      "source": [
        "import os\n",
        "\n",
        "def recortar_en_trozos(imagen_ruta, altoyancho):\n",
        "  imagen = cv2.imread(imagen_ruta)\n",
        "  nombre = imagen_ruta.split('/')[3]\n",
        "  carpeta2 = imagen_ruta.split('/')[2]\n",
        "  carpeta1 = imagen_ruta.split('/')[1]\n",
        "  extension = nombre.split('.')\n",
        "  ancho = altoyancho\n",
        "  alto = altoyancho\n",
        "  i = 0\n",
        "  for y in range(0,1500,300):\n",
        "    for x in range(0,1500,300):\n",
        "      i = i + 1\n",
        "      recorte = imagen[y:y+altoyancho, x:x+altoyancho]\n",
        "      cv2.imwrite('dataset_prueba_RIOJA/'+ carpeta1 + '/' + carpeta2 +'/' + extension[0] + '_' + str(i) + '.'+ extension[1], recorte)\n",
        "  \n",
        "  os.remove(imagen_ruta)"
      ],
      "execution_count": 10,
      "outputs": []
    },
    {
      "cell_type": "code",
      "metadata": {
        "id": "yjFA2ZQfVmkO"
      },
      "source": [
        "recortar_en_trozos('dataset_prueba_RIOJA/Images/test/foto1.jpg', 300)"
      ],
      "execution_count": 11,
      "outputs": []
    },
    {
      "cell_type": "code",
      "metadata": {
        "id": "tazTOPK1k4QY"
      },
      "source": [
        "path_images = path/\"Images\""
      ],
      "execution_count": 15,
      "outputs": []
    },
    {
      "cell_type": "code",
      "metadata": {
        "id": "iXRvG-9EkJ7_"
      },
      "source": [
        "codes = np.loadtxt(path/'codes.txt', dtype=str)"
      ],
      "execution_count": 12,
      "outputs": []
    },
    {
      "cell_type": "code",
      "metadata": {
        "id": "wHH6POFZkpRW"
      },
      "source": [
        "testDB = DataBlock(blocks=(ImageBlock, MaskBlock(codes)),\n",
        "                   get_items=partial(get_image_files,folders=['test']),\n",
        "                   item_tfms=[Resize((300,300))],\n",
        "                   batch_tfms=Normalize.from_stats(*imagenet_stats)\n",
        "                  )"
      ],
      "execution_count": 14,
      "outputs": []
    },
    {
      "cell_type": "code",
      "metadata": {
        "id": "DLnAlbo5kzk9"
      },
      "source": [
        "bs = 4\n",
        "testDLS = testDB.dataloaders(path_images,bs=bs)"
      ],
      "execution_count": 16,
      "outputs": []
    },
    {
      "cell_type": "code",
      "metadata": {
        "id": "Ir8qK-BNa-rC",
        "outputId": "b73284a9-bf59-4239-f45c-710048604b00",
        "colab": {
          "base_uri": "https://localhost:8080/"
        }
      },
      "source": [
        "!wget https://www.dropbox.com/s/plytu2dsv0nzf5m/models.zip?dl=0 -O models.zip"
      ],
      "execution_count": 17,
      "outputs": [
        {
          "output_type": "stream",
          "text": [
            "--2021-05-30 09:21:21--  https://www.dropbox.com/s/plytu2dsv0nzf5m/models.zip?dl=0\n",
            "Resolving www.dropbox.com (www.dropbox.com)... 162.125.4.18, 2620:100:601c:18::a27d:612\n",
            "Connecting to www.dropbox.com (www.dropbox.com)|162.125.4.18|:443... connected.\n",
            "HTTP request sent, awaiting response... 301 Moved Permanently\n",
            "Location: /s/raw/plytu2dsv0nzf5m/models.zip [following]\n",
            "--2021-05-30 09:21:21--  https://www.dropbox.com/s/raw/plytu2dsv0nzf5m/models.zip\n",
            "Reusing existing connection to www.dropbox.com:443.\n",
            "HTTP request sent, awaiting response... 302 Found\n",
            "Location: https://uc3c3664ff2652e6b72d87108410.dl.dropboxusercontent.com/cd/0/inline/BPfP6kYmpcYmJ5CPiUFdC_jFHNOqzh03ZJhcZSQX2XFFgLBG9yB44NVXEez8K5ahCWQlPQWqQn5H7FHWZDDUCZgG9NJK4UpQYOvmABg60EMX_iKRZlEbSOZa9suZUFsVctcQ4haWfKXZ2uBW6BEi0IvS/file# [following]\n",
            "--2021-05-30 09:21:21--  https://uc3c3664ff2652e6b72d87108410.dl.dropboxusercontent.com/cd/0/inline/BPfP6kYmpcYmJ5CPiUFdC_jFHNOqzh03ZJhcZSQX2XFFgLBG9yB44NVXEez8K5ahCWQlPQWqQn5H7FHWZDDUCZgG9NJK4UpQYOvmABg60EMX_iKRZlEbSOZa9suZUFsVctcQ4haWfKXZ2uBW6BEi0IvS/file\n",
            "Resolving uc3c3664ff2652e6b72d87108410.dl.dropboxusercontent.com (uc3c3664ff2652e6b72d87108410.dl.dropboxusercontent.com)... 162.125.6.15, 2620:100:6019:15::a27d:40f\n",
            "Connecting to uc3c3664ff2652e6b72d87108410.dl.dropboxusercontent.com (uc3c3664ff2652e6b72d87108410.dl.dropboxusercontent.com)|162.125.6.15|:443... connected.\n",
            "HTTP request sent, awaiting response... 302 Found\n",
            "Location: /cd/0/inline2/BPcU_2x0rVwhNTgE3TtwD0j6GYQwkqhdjNiLh8SiYU1xin0nRr9-BDGdyuKeU6mTW3XeeyjstLkhmK51b_anuIpnalL3vHS_kkwLjfi0gqpdBOz_HYev1hEVB8k0SLnBU0DljBjibqXdyJpKymRJv00PpPGghsWi9F9k92UnoD2YdJ_7dR6lJll2q06CRhc5ZRHMZiwElp7gXn3QywS6gQSR-Vf0a7sMH92j2e5McIdFN_xpF5Tg8gsV9DRnlNUbh0cGnTKnqvJnxcAEYNed18j7jrrHV7zz8ntWwjb_6Jau9vkiY4w0UbQWxOfIrgzpglU8STc988Ev0BjwOQ4PklcmueNWvU4ug9WRAF9M2w8peg4P7sir7J2RqpDtpiK-IK4/file [following]\n",
            "--2021-05-30 09:21:21--  https://uc3c3664ff2652e6b72d87108410.dl.dropboxusercontent.com/cd/0/inline2/BPcU_2x0rVwhNTgE3TtwD0j6GYQwkqhdjNiLh8SiYU1xin0nRr9-BDGdyuKeU6mTW3XeeyjstLkhmK51b_anuIpnalL3vHS_kkwLjfi0gqpdBOz_HYev1hEVB8k0SLnBU0DljBjibqXdyJpKymRJv00PpPGghsWi9F9k92UnoD2YdJ_7dR6lJll2q06CRhc5ZRHMZiwElp7gXn3QywS6gQSR-Vf0a7sMH92j2e5McIdFN_xpF5Tg8gsV9DRnlNUbh0cGnTKnqvJnxcAEYNed18j7jrrHV7zz8ntWwjb_6Jau9vkiY4w0UbQWxOfIrgzpglU8STc988Ev0BjwOQ4PklcmueNWvU4ug9WRAF9M2w8peg4P7sir7J2RqpDtpiK-IK4/file\n",
            "Reusing existing connection to uc3c3664ff2652e6b72d87108410.dl.dropboxusercontent.com:443.\n",
            "HTTP request sent, awaiting response... 200 OK\n",
            "Length: 288684248 (275M) [application/zip]\n",
            "Saving to: ‘models.zip’\n",
            "\n",
            "models.zip          100%[===================>] 275.31M   122MB/s    in 2.2s    \n",
            "\n",
            "2021-05-30 09:21:24 (122 MB/s) - ‘models.zip’ saved [288684248/288684248]\n",
            "\n"
          ],
          "name": "stdout"
        }
      ]
    },
    {
      "cell_type": "code",
      "metadata": {
        "id": "wV6fpkrlhmrY",
        "outputId": "b80775fb-1141-4602-a5da-32bf108c6d03",
        "colab": {
          "base_uri": "https://localhost:8080/"
        }
      },
      "source": [
        "!unzip models.zip"
      ],
      "execution_count": 18,
      "outputs": [
        {
          "output_type": "stream",
          "text": [
            "Archive:  models.zip\n",
            "   creating: models/\n",
            "  inflating: models/hrnet.pth        \n"
          ],
          "name": "stdout"
        }
      ]
    },
    {
      "cell_type": "code",
      "metadata": {
        "id": "8i9OpsQ7lARH"
      },
      "source": [
        "import torch\n",
        "torch.cuda.empty_cache()"
      ],
      "execution_count": 19,
      "outputs": []
    },
    {
      "cell_type": "code",
      "metadata": {
        "id": "9HNPyawVlArl",
        "outputId": "34992f0a-f2db-4b8e-b87c-29081640209b",
        "colab": {
          "base_uri": "https://localhost:8080/"
        }
      },
      "source": [
        "learn = get_segmentation_learner(dls=testDLS,number_classes=2,segmentation_type='Semantic Segmentation',\n",
        "                                 architecture_name='hrnet',backbone_name='hrnet_w30',\n",
        "                                 metrics=[Dice(),JaccardCoeff()],pretrained=True).to_fp16()"
      ],
      "execution_count": 20,
      "outputs": [
        {
          "output_type": "stream",
          "text": [
            "Downloading /root/.cache/torch/checkpoints from https://dl.dropboxusercontent.com/s/r1rafhhw1hfhpgl/hrnetv2_w30_imagenet_pretrained.pth?dl=0...\n"
          ],
          "name": "stdout"
        },
        {
          "output_type": "stream",
          "text": [
            "147942KB [00:03, 45980.72KB/s]                            \n",
            "/usr/local/lib/python3.7/dist-packages/torch/cuda/amp/autocast_mode.py:118: UserWarning: torch.cuda.amp.autocast only affects CUDA ops, but CUDA is not available.  Disabling.\n",
            "  warnings.warn(\"torch.cuda.amp.autocast only affects CUDA ops, but CUDA is not available.  Disabling.\")\n"
          ],
          "name": "stderr"
        }
      ]
    },
    {
      "cell_type": "code",
      "metadata": {
        "id": "RwVc9j9GlFe9",
        "outputId": "7ca7273e-5ed4-4a40-e423-7fe4bb44da89",
        "colab": {
          "base_uri": "https://localhost:8080/"
        }
      },
      "source": [
        "learn.load('hrnet')"
      ],
      "execution_count": 21,
      "outputs": [
        {
          "output_type": "execute_result",
          "data": {
            "text/plain": [
              "<fastai.learner.Learner at 0x7f7f8574d510>"
            ]
          },
          "metadata": {
            "tags": []
          },
          "execution_count": 21
        }
      ]
    },
    {
      "cell_type": "code",
      "metadata": {
        "id": "geUsiNjWlbZ1"
      },
      "source": [
        "fnames = get_image_files(path_images/'test')"
      ],
      "execution_count": 22,
      "outputs": []
    },
    {
      "cell_type": "code",
      "metadata": {
        "id": "MRtlJCK4lhP_"
      },
      "source": [
        "dl = learn.dls.test_dl(fnames[7:8])"
      ],
      "execution_count": 46,
      "outputs": []
    },
    {
      "cell_type": "code",
      "metadata": {
        "id": "ypXylHkpllYl",
        "outputId": "be855d4f-11db-4fe1-a1b2-b861fdbaf7a2",
        "colab": {
          "base_uri": "https://localhost:8080/",
          "height": 194
        }
      },
      "source": [
        "dl.show_batch()"
      ],
      "execution_count": 47,
      "outputs": [
        {
          "output_type": "display_data",
          "data": {
            "image/png": "[encoded data removed]",
            "text/plain": [
              "<Figure size 216x216 with 1 Axes>"
            ]
          },
          "metadata": {
            "tags": [],
            "needs_background": "light"
          }
        }
      ]
    },
    {
      "cell_type": "code",
      "metadata": {
        "id": "6fsn-FmPltwu",
        "outputId": "1bb9a178-3e51-423e-a4b1-905d096b88f6",
        "colab": {
          "base_uri": "https://localhost:8080/",
          "height": 105
        }
      },
      "source": [
        "preds = learn.get_preds(dl=dl)"
      ],
      "execution_count": 48,
      "outputs": [
        {
          "output_type": "stream",
          "text": [
            "/usr/local/lib/python3.7/dist-packages/torch/cuda/amp/grad_scaler.py:116: UserWarning: torch.cuda.amp.GradScaler is enabled, but CUDA is not available.  Disabling.\n",
            "  warnings.warn(\"torch.cuda.amp.GradScaler is enabled, but CUDA is not available.  Disabling.\")\n"
          ],
          "name": "stderr"
        },
        {
          "output_type": "display_data",
          "data": {
            "text/html": [
              ""
            ],
            "text/plain": [
              "<IPython.core.display.HTML object>"
            ]
          },
          "metadata": {
            "tags": []
          }
        },
        {
          "output_type": "stream",
          "text": [
            "/usr/local/lib/python3.7/dist-packages/torch/nn/functional.py:3458: UserWarning: Default upsampling behavior when mode=bilinear is changed to align_corners=False since 0.4.0. Please specify align_corners=True if the old behavior is desired. See the documentation of nn.Upsample for details.\n",
            "  \"See the documentation of nn.Upsample for details.\".format(mode)\n"
          ],
          "name": "stderr"
        }
      ]
    },
    {
      "cell_type": "code",
      "metadata": {
        "id": "7u0wQuddmIu9",
        "outputId": "3a0c2d08-aa9b-47a2-b3fa-6f0f1926f35e",
        "colab": {
          "base_uri": "https://localhost:8080/"
        }
      },
      "source": [
        "preds[0].shape"
      ],
      "execution_count": 49,
      "outputs": [
        {
          "output_type": "execute_result",
          "data": {
            "text/plain": [
              "torch.Size([1, 2, 300, 300])"
            ]
          },
          "metadata": {
            "tags": []
          },
          "execution_count": 49
        }
      ]
    },
    {
      "cell_type": "code",
      "metadata": {
        "id": "KDhzOgNmmMOl"
      },
      "source": [
        "preds_1 = preds[0][0]"
      ],
      "execution_count": 50,
      "outputs": []
    },
    {
      "cell_type": "code",
      "metadata": {
        "id": "7NhQ5xY-mNft",
        "outputId": "9f22c1ff-2204-4f1b-a2b8-109481910603",
        "colab": {
          "base_uri": "https://localhost:8080/"
        }
      },
      "source": [
        "preds_1"
      ],
      "execution_count": 51,
      "outputs": [
        {
          "output_type": "execute_result",
          "data": {
            "text/plain": [
              "TensorImage([[[0.9734, 0.9734, 0.9748,  ..., 0.8739, 0.8746, 0.8746],\n",
              "         [0.9734, 0.9734, 0.9748,  ..., 0.8739, 0.8746, 0.8746],\n",
              "         [0.9733, 0.9733, 0.9748,  ..., 0.8809, 0.8822, 0.8822],\n",
              "         ...,\n",
              "         [0.8081, 0.8081, 0.8016,  ..., 0.9475, 0.9494, 0.9494],\n",
              "         [0.8048, 0.8048, 0.7979,  ..., 0.9463, 0.9481, 0.9481],\n",
              "         [0.8048, 0.8048, 0.7979,  ..., 0.9463, 0.9481, 0.9481]],\n",
              "\n",
              "        [[0.0266, 0.0266, 0.0252,  ..., 0.1261, 0.1254, 0.1254],\n",
              "         [0.0266, 0.0266, 0.0252,  ..., 0.1261, 0.1254, 0.1254],\n",
              "         [0.0267, 0.0267, 0.0252,  ..., 0.1191, 0.1178, 0.1178],\n",
              "         ...,\n",
              "         [0.1919, 0.1919, 0.1984,  ..., 0.0525, 0.0506, 0.0506],\n",
              "         [0.1952, 0.1952, 0.2021,  ..., 0.0537, 0.0519, 0.0519],\n",
              "         [0.1952, 0.1952, 0.2021,  ..., 0.0537, 0.0519, 0.0519]]])"
            ]
          },
          "metadata": {
            "tags": []
          },
          "execution_count": 51
        }
      ]
    },
    {
      "cell_type": "code",
      "metadata": {
        "id": "UhbSstj4mPW2"
      },
      "source": [
        "preds_arx = (preds_1).argmax(dim=0)"
      ],
      "execution_count": 52,
      "outputs": []
    },
    {
      "cell_type": "code",
      "metadata": {
        "id": "jwnjYFILmRHt",
        "outputId": "20c0b0f5-31e6-4f6e-a7f2-f6a6146c0619",
        "colab": {
          "base_uri": "https://localhost:8080/"
        }
      },
      "source": [
        "np.unique(preds_arx)"
      ],
      "execution_count": 53,
      "outputs": [
        {
          "output_type": "execute_result",
          "data": {
            "text/plain": [
              "array([0, 1])"
            ]
          },
          "metadata": {
            "tags": []
          },
          "execution_count": 53
        }
      ]
    },
    {
      "cell_type": "code",
      "metadata": {
        "id": "a4pwraE0mRwd",
        "outputId": "5072cb58-48bf-4393-c7c3-202577e57a56",
        "colab": {
          "base_uri": "https://localhost:8080/",
          "height": 286
        }
      },
      "source": [
        "plt.imshow(preds_arx)"
      ],
      "execution_count": 54,
      "outputs": [
        {
          "output_type": "execute_result",
          "data": {
            "text/plain": [
              "<matplotlib.image.AxesImage at 0x7f7f82360b10>"
            ]
          },
          "metadata": {
            "tags": []
          },
          "execution_count": 54
        },
        {
          "output_type": "display_data",
          "data": {
            "image/png": "[encoded data removed]",
            "text/plain": [
              "<Figure size 432x288 with 1 Axes>"
            ]
          },
          "metadata": {
            "tags": [],
            "needs_background": "light"
          }
        }
      ]
    }
  ]
}