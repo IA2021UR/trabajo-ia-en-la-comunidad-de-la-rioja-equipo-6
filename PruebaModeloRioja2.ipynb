{
  "nbformat": 4,
  "nbformat_minor": 0,
  "metadata": {
    "colab": {
      "name": "Untitled7.ipynb",
      "provenance": [],
      "authorship_tag": "ABX9TyN8FMjz+OoJnS+p2w5FDWTc",
      "include_colab_link": true
    },
    "kernelspec": {
      "name": "python3",
      "display_name": "Python 3"
    },
    "language_info": {
      "name": "python"
    }
  },
  "cells": [
    {
      "cell_type": "markdown",
      "metadata": {
        "id": "view-in-github",
        "colab_type": "text"
      },
      "source": [
        "<a href=\"https://colab.research.google.com/github/IA2021UR/trabajo-ia-en-la-comunidad-de-la-rioja-equipo-6/blob/main/PruebaModeloRioja2.ipynb\" target=\"_parent\"><img src=\"https://colab.research.google.com/assets/colab-badge.svg\" alt=\"Open In Colab\"/></a>"
      ]
    },
    {
      "cell_type": "code",
      "metadata": {
        "colab": {
          "base_uri": "https://localhost:8080/"
        },
        "id": "PRBFsHHGRIlo",
        "outputId": "0d1f4474-31e4-4ec2-b182-762c41ba8f36"
      },
      "source": [
        "!pip install semtorch"
      ],
      "execution_count": 1,
      "outputs": [
        {
          "output_type": "stream",
          "text": [
            "Collecting semtorch\n",
            "\u001b[?25l  Downloading https://files.pythonhosted.org/packages/78/59/e41afbd4cf5f8bcbf6d0b8117f60586e87f9053610fcb262d2af950ab7b4/SemTorch-0.1.1.tar.gz (41kB)\n",
            "\r\u001b[K     |███████▉                        | 10kB 14.7MB/s eta 0:00:01\r\u001b[K     |███████████████▊                | 20kB 20.3MB/s eta 0:00:01\r\u001b[K     |███████████████████████▌        | 30kB 16.6MB/s eta 0:00:01\r\u001b[K     |███████████████████████████████▍| 40kB 15.3MB/s eta 0:00:01\r\u001b[K     |████████████████████████████████| 51kB 4.4MB/s \n",
            "\u001b[?25hRequirement already satisfied: numpy<2.0.0,>=1.18.5 in /usr/local/lib/python3.7/dist-packages (from semtorch) (1.19.5)\n",
            "Collecting scikit-image<1.0.0,>=0.17.2\n",
            "\u001b[?25l  Downloading https://files.pythonhosted.org/packages/fe/01/3a830f3df578ea3ed94ee7fd9f91e85c3dec2431d8548ab1c91869e51450/scikit_image-0.18.1-cp37-cp37m-manylinux1_x86_64.whl (29.2MB)\n",
            "\u001b[K     |████████████████████████████████| 29.2MB 134kB/s \n",
            "\u001b[?25hRequirement already satisfied: matplotlib in /usr/local/lib/python3.7/dist-packages (from semtorch) (3.2.2)\n",
            "Requirement already satisfied: ipython in /usr/local/lib/python3.7/dist-packages (from semtorch) (5.5.0)\n",
            "Requirement already satisfied: torch<2.0.0,>=1.6.0 in /usr/local/lib/python3.7/dist-packages (from semtorch) (1.8.1+cu101)\n",
            "Requirement already satisfied: torchvision<1.0.0,>=0.7.0 in /usr/local/lib/python3.7/dist-packages (from semtorch) (0.9.1+cu101)\n",
            "Collecting fastai<3.0.0,>=2.0.0\n",
            "\u001b[?25l  Downloading https://files.pythonhosted.org/packages/e8/79/e8a87e4c20238e114671314426227db8647d2b42744eab79e0917c59865e/fastai-2.3.1-py3-none-any.whl (194kB)\n",
            "\u001b[K     |████████████████████████████████| 204kB 54.1MB/s \n",
            "\u001b[?25hRequirement already satisfied: tqdm in /usr/local/lib/python3.7/dist-packages (from semtorch) (4.41.1)\n",
            "Requirement already satisfied: PyWavelets>=1.1.1 in /usr/local/lib/python3.7/dist-packages (from scikit-image<1.0.0,>=0.17.2->semtorch) (1.1.1)\n",
            "Requirement already satisfied: tifffile>=2019.7.26 in /usr/local/lib/python3.7/dist-packages (from scikit-image<1.0.0,>=0.17.2->semtorch) (2021.4.8)\n",
            "Requirement already satisfied: pillow!=7.1.0,!=7.1.1,>=4.3.0 in /usr/local/lib/python3.7/dist-packages (from scikit-image<1.0.0,>=0.17.2->semtorch) (7.1.2)\n",
            "Requirement already satisfied: networkx>=2.0 in /usr/local/lib/python3.7/dist-packages (from scikit-image<1.0.0,>=0.17.2->semtorch) (2.5.1)\n",
            "Requirement already satisfied: imageio>=2.3.0 in /usr/local/lib/python3.7/dist-packages (from scikit-image<1.0.0,>=0.17.2->semtorch) (2.4.1)\n",
            "Requirement already satisfied: scipy>=1.0.1 in /usr/local/lib/python3.7/dist-packages (from scikit-image<1.0.0,>=0.17.2->semtorch) (1.4.1)\n",
            "Requirement already satisfied: python-dateutil>=2.1 in /usr/local/lib/python3.7/dist-packages (from matplotlib->semtorch) (2.8.1)\n",
            "Requirement already satisfied: cycler>=0.10 in /usr/local/lib/python3.7/dist-packages (from matplotlib->semtorch) (0.10.0)\n",
            "Requirement already satisfied: kiwisolver>=1.0.1 in /usr/local/lib/python3.7/dist-packages (from matplotlib->semtorch) (1.3.1)\n",
            "Requirement already satisfied: pyparsing!=2.0.4,!=2.1.2,!=2.1.6,>=2.0.1 in /usr/local/lib/python3.7/dist-packages (from matplotlib->semtorch) (2.4.7)\n",
            "Requirement already satisfied: pygments in /usr/local/lib/python3.7/dist-packages (from ipython->semtorch) (2.6.1)\n",
            "Requirement already satisfied: traitlets>=4.2 in /usr/local/lib/python3.7/dist-packages (from ipython->semtorch) (5.0.5)\n",
            "Requirement already satisfied: simplegeneric>0.8 in /usr/local/lib/python3.7/dist-packages (from ipython->semtorch) (0.8.1)\n",
            "Requirement already satisfied: pickleshare in /usr/local/lib/python3.7/dist-packages (from ipython->semtorch) (0.7.5)\n",
            "Requirement already satisfied: setuptools>=18.5 in /usr/local/lib/python3.7/dist-packages (from ipython->semtorch) (56.1.0)\n",
            "Requirement already satisfied: decorator in /usr/local/lib/python3.7/dist-packages (from ipython->semtorch) (4.4.2)\n",
            "Requirement already satisfied: prompt-toolkit<2.0.0,>=1.0.4 in /usr/local/lib/python3.7/dist-packages (from ipython->semtorch) (1.0.18)\n",
            "Requirement already satisfied: pexpect; sys_platform != \"win32\" in /usr/local/lib/python3.7/dist-packages (from ipython->semtorch) (4.8.0)\n",
            "Requirement already satisfied: typing-extensions in /usr/local/lib/python3.7/dist-packages (from torch<2.0.0,>=1.6.0->semtorch) (3.7.4.3)\n",
            "Requirement already satisfied: fastprogress>=0.2.4 in /usr/local/lib/python3.7/dist-packages (from fastai<3.0.0,>=2.0.0->semtorch) (1.0.0)\n",
            "Requirement already satisfied: requests in /usr/local/lib/python3.7/dist-packages (from fastai<3.0.0,>=2.0.0->semtorch) (2.23.0)\n",
            "Collecting fastcore<1.4,>=1.3.8\n",
            "\u001b[?25l  Downloading https://files.pythonhosted.org/packages/d8/b0/f1fbf554e0bf3c76e1bdc3b82eedfe41fcf656479586be38c64421082b1b/fastcore-1.3.20-py3-none-any.whl (53kB)\n",
            "\u001b[K     |████████████████████████████████| 61kB 7.8MB/s \n",
            "\u001b[?25hRequirement already satisfied: pyyaml in /usr/local/lib/python3.7/dist-packages (from fastai<3.0.0,>=2.0.0->semtorch) (3.13)\n",
            "Requirement already satisfied: pandas in /usr/local/lib/python3.7/dist-packages (from fastai<3.0.0,>=2.0.0->semtorch) (1.1.5)\n",
            "Requirement already satisfied: pip in /usr/local/lib/python3.7/dist-packages (from fastai<3.0.0,>=2.0.0->semtorch) (19.3.1)\n",
            "Requirement already satisfied: scikit-learn in /usr/local/lib/python3.7/dist-packages (from fastai<3.0.0,>=2.0.0->semtorch) (0.22.2.post1)\n",
            "Requirement already satisfied: packaging in /usr/local/lib/python3.7/dist-packages (from fastai<3.0.0,>=2.0.0->semtorch) (20.9)\n",
            "Requirement already satisfied: spacy<4 in /usr/local/lib/python3.7/dist-packages (from fastai<3.0.0,>=2.0.0->semtorch) (2.2.4)\n",
            "Requirement already satisfied: six>=1.5 in /usr/local/lib/python3.7/dist-packages (from python-dateutil>=2.1->matplotlib->semtorch) (1.15.0)\n",
            "Requirement already satisfied: ipython-genutils in /usr/local/lib/python3.7/dist-packages (from traitlets>=4.2->ipython->semtorch) (0.2.0)\n",
            "Requirement already satisfied: wcwidth in /usr/local/lib/python3.7/dist-packages (from prompt-toolkit<2.0.0,>=1.0.4->ipython->semtorch) (0.2.5)\n",
            "Requirement already satisfied: ptyprocess>=0.5 in /usr/local/lib/python3.7/dist-packages (from pexpect; sys_platform != \"win32\"->ipython->semtorch) (0.7.0)\n",
            "Requirement already satisfied: urllib3!=1.25.0,!=1.25.1,<1.26,>=1.21.1 in /usr/local/lib/python3.7/dist-packages (from requests->fastai<3.0.0,>=2.0.0->semtorch) (1.24.3)\n",
            "Requirement already satisfied: idna<3,>=2.5 in /usr/local/lib/python3.7/dist-packages (from requests->fastai<3.0.0,>=2.0.0->semtorch) (2.10)\n",
            "Requirement already satisfied: chardet<4,>=3.0.2 in /usr/local/lib/python3.7/dist-packages (from requests->fastai<3.0.0,>=2.0.0->semtorch) (3.0.4)\n",
            "Requirement already satisfied: certifi>=2017.4.17 in /usr/local/lib/python3.7/dist-packages (from requests->fastai<3.0.0,>=2.0.0->semtorch) (2020.12.5)\n",
            "Requirement already satisfied: pytz>=2017.2 in /usr/local/lib/python3.7/dist-packages (from pandas->fastai<3.0.0,>=2.0.0->semtorch) (2018.9)\n",
            "Requirement already satisfied: joblib>=0.11 in /usr/local/lib/python3.7/dist-packages (from scikit-learn->fastai<3.0.0,>=2.0.0->semtorch) (1.0.1)\n",
            "Requirement already satisfied: wasabi<1.1.0,>=0.4.0 in /usr/local/lib/python3.7/dist-packages (from spacy<4->fastai<3.0.0,>=2.0.0->semtorch) (0.8.2)\n",
            "Requirement already satisfied: cymem<2.1.0,>=2.0.2 in /usr/local/lib/python3.7/dist-packages (from spacy<4->fastai<3.0.0,>=2.0.0->semtorch) (2.0.5)\n",
            "Requirement already satisfied: preshed<3.1.0,>=3.0.2 in /usr/local/lib/python3.7/dist-packages (from spacy<4->fastai<3.0.0,>=2.0.0->semtorch) (3.0.5)\n",
            "Requirement already satisfied: catalogue<1.1.0,>=0.0.7 in /usr/local/lib/python3.7/dist-packages (from spacy<4->fastai<3.0.0,>=2.0.0->semtorch) (1.0.0)\n",
            "Requirement already satisfied: thinc==7.4.0 in /usr/local/lib/python3.7/dist-packages (from spacy<4->fastai<3.0.0,>=2.0.0->semtorch) (7.4.0)\n",
            "Requirement already satisfied: srsly<1.1.0,>=1.0.2 in /usr/local/lib/python3.7/dist-packages (from spacy<4->fastai<3.0.0,>=2.0.0->semtorch) (1.0.5)\n",
            "Requirement already satisfied: blis<0.5.0,>=0.4.0 in /usr/local/lib/python3.7/dist-packages (from spacy<4->fastai<3.0.0,>=2.0.0->semtorch) (0.4.1)\n",
            "Requirement already satisfied: plac<1.2.0,>=0.9.6 in /usr/local/lib/python3.7/dist-packages (from spacy<4->fastai<3.0.0,>=2.0.0->semtorch) (1.1.3)\n",
            "Requirement already satisfied: murmurhash<1.1.0,>=0.28.0 in /usr/local/lib/python3.7/dist-packages (from spacy<4->fastai<3.0.0,>=2.0.0->semtorch) (1.0.5)\n",
            "Requirement already satisfied: importlib-metadata>=0.20; python_version < \"3.8\" in /usr/local/lib/python3.7/dist-packages (from catalogue<1.1.0,>=0.0.7->spacy<4->fastai<3.0.0,>=2.0.0->semtorch) (4.0.1)\n",
            "Requirement already satisfied: zipp>=0.5 in /usr/local/lib/python3.7/dist-packages (from importlib-metadata>=0.20; python_version < \"3.8\"->catalogue<1.1.0,>=0.0.7->spacy<4->fastai<3.0.0,>=2.0.0->semtorch) (3.4.1)\n",
            "Building wheels for collected packages: semtorch\n",
            "  Building wheel for semtorch (setup.py) ... \u001b[?25l\u001b[?25hdone\n",
            "  Created wheel for semtorch: filename=SemTorch-0.1.1-cp37-none-any.whl size=50551 sha256=ffefb57aa291e2f7002450409088aad625065517bfeb3bb4ce34de5bccd141c4\n",
            "  Stored in directory: /root/.cache/pip/wheels/f6/da/9f/726f9d2f054d71afa59afeca3f4672464001e9e3f2924d959e\n",
            "Successfully built semtorch\n",
            "\u001b[31mERROR: albumentations 0.1.12 has requirement imgaug<0.2.7,>=0.2.5, but you'll have imgaug 0.2.9 which is incompatible.\u001b[0m\n",
            "Installing collected packages: scikit-image, fastcore, fastai, semtorch\n",
            "  Found existing installation: scikit-image 0.16.2\n",
            "    Uninstalling scikit-image-0.16.2:\n",
            "      Successfully uninstalled scikit-image-0.16.2\n",
            "  Found existing installation: fastai 1.0.61\n",
            "    Uninstalling fastai-1.0.61:\n",
            "      Successfully uninstalled fastai-1.0.61\n",
            "Successfully installed fastai-2.3.1 fastcore-1.3.20 scikit-image-0.18.1 semtorch-0.1.1\n"
          ],
          "name": "stdout"
        }
      ]
    },
    {
      "cell_type": "code",
      "metadata": {
        "colab": {
          "base_uri": "https://localhost:8080/"
        },
        "id": "R23lXuchR7h5",
        "outputId": "6792a5c1-7b1e-4861-affd-bb57e61ac026"
      },
      "source": [
        "!pip install fastai --upgrade"
      ],
      "execution_count": 2,
      "outputs": [
        {
          "output_type": "stream",
          "text": [
            "Requirement already up-to-date: fastai in /usr/local/lib/python3.7/dist-packages (2.3.1)\n",
            "Requirement already satisfied, skipping upgrade: pillow>6.0.0 in /usr/local/lib/python3.7/dist-packages (from fastai) (7.1.2)\n",
            "Requirement already satisfied, skipping upgrade: matplotlib in /usr/local/lib/python3.7/dist-packages (from fastai) (3.2.2)\n",
            "Requirement already satisfied, skipping upgrade: fastcore<1.4,>=1.3.8 in /usr/local/lib/python3.7/dist-packages (from fastai) (1.3.20)\n",
            "Requirement already satisfied, skipping upgrade: scikit-learn in /usr/local/lib/python3.7/dist-packages (from fastai) (0.22.2.post1)\n",
            "Requirement already satisfied, skipping upgrade: pyyaml in /usr/local/lib/python3.7/dist-packages (from fastai) (3.13)\n",
            "Requirement already satisfied, skipping upgrade: requests in /usr/local/lib/python3.7/dist-packages (from fastai) (2.23.0)\n",
            "Requirement already satisfied, skipping upgrade: scipy in /usr/local/lib/python3.7/dist-packages (from fastai) (1.4.1)\n",
            "Requirement already satisfied, skipping upgrade: torchvision>=0.8.2 in /usr/local/lib/python3.7/dist-packages (from fastai) (0.9.1+cu101)\n",
            "Requirement already satisfied, skipping upgrade: torch<1.9,>=1.7.0 in /usr/local/lib/python3.7/dist-packages (from fastai) (1.8.1+cu101)\n",
            "Requirement already satisfied, skipping upgrade: spacy<4 in /usr/local/lib/python3.7/dist-packages (from fastai) (2.2.4)\n",
            "Requirement already satisfied, skipping upgrade: pandas in /usr/local/lib/python3.7/dist-packages (from fastai) (1.1.5)\n",
            "Requirement already satisfied, skipping upgrade: packaging in /usr/local/lib/python3.7/dist-packages (from fastai) (20.9)\n",
            "Requirement already satisfied, skipping upgrade: pip in /usr/local/lib/python3.7/dist-packages (from fastai) (19.3.1)\n",
            "Requirement already satisfied, skipping upgrade: fastprogress>=0.2.4 in /usr/local/lib/python3.7/dist-packages (from fastai) (1.0.0)\n",
            "Requirement already satisfied, skipping upgrade: numpy>=1.11 in /usr/local/lib/python3.7/dist-packages (from matplotlib->fastai) (1.19.5)\n",
            "Requirement already satisfied, skipping upgrade: python-dateutil>=2.1 in /usr/local/lib/python3.7/dist-packages (from matplotlib->fastai) (2.8.1)\n",
            "Requirement already satisfied, skipping upgrade: kiwisolver>=1.0.1 in /usr/local/lib/python3.7/dist-packages (from matplotlib->fastai) (1.3.1)\n",
            "Requirement already satisfied, skipping upgrade: cycler>=0.10 in /usr/local/lib/python3.7/dist-packages (from matplotlib->fastai) (0.10.0)\n",
            "Requirement already satisfied, skipping upgrade: pyparsing!=2.0.4,!=2.1.2,!=2.1.6,>=2.0.1 in /usr/local/lib/python3.7/dist-packages (from matplotlib->fastai) (2.4.7)\n",
            "Requirement already satisfied, skipping upgrade: joblib>=0.11 in /usr/local/lib/python3.7/dist-packages (from scikit-learn->fastai) (1.0.1)\n",
            "Requirement already satisfied, skipping upgrade: idna<3,>=2.5 in /usr/local/lib/python3.7/dist-packages (from requests->fastai) (2.10)\n",
            "Requirement already satisfied, skipping upgrade: urllib3!=1.25.0,!=1.25.1,<1.26,>=1.21.1 in /usr/local/lib/python3.7/dist-packages (from requests->fastai) (1.24.3)\n",
            "Requirement already satisfied, skipping upgrade: chardet<4,>=3.0.2 in /usr/local/lib/python3.7/dist-packages (from requests->fastai) (3.0.4)\n",
            "Requirement already satisfied, skipping upgrade: certifi>=2017.4.17 in /usr/local/lib/python3.7/dist-packages (from requests->fastai) (2020.12.5)\n",
            "Requirement already satisfied, skipping upgrade: typing-extensions in /usr/local/lib/python3.7/dist-packages (from torch<1.9,>=1.7.0->fastai) (3.7.4.3)\n",
            "Requirement already satisfied, skipping upgrade: wasabi<1.1.0,>=0.4.0 in /usr/local/lib/python3.7/dist-packages (from spacy<4->fastai) (0.8.2)\n",
            "Requirement already satisfied, skipping upgrade: catalogue<1.1.0,>=0.0.7 in /usr/local/lib/python3.7/dist-packages (from spacy<4->fastai) (1.0.0)\n",
            "Requirement already satisfied, skipping upgrade: murmurhash<1.1.0,>=0.28.0 in /usr/local/lib/python3.7/dist-packages (from spacy<4->fastai) (1.0.5)\n",
            "Requirement already satisfied, skipping upgrade: setuptools in /usr/local/lib/python3.7/dist-packages (from spacy<4->fastai) (56.1.0)\n",
            "Requirement already satisfied, skipping upgrade: thinc==7.4.0 in /usr/local/lib/python3.7/dist-packages (from spacy<4->fastai) (7.4.0)\n",
            "Requirement already satisfied, skipping upgrade: cymem<2.1.0,>=2.0.2 in /usr/local/lib/python3.7/dist-packages (from spacy<4->fastai) (2.0.5)\n",
            "Requirement already satisfied, skipping upgrade: tqdm<5.0.0,>=4.38.0 in /usr/local/lib/python3.7/dist-packages (from spacy<4->fastai) (4.41.1)\n",
            "Requirement already satisfied, skipping upgrade: srsly<1.1.0,>=1.0.2 in /usr/local/lib/python3.7/dist-packages (from spacy<4->fastai) (1.0.5)\n",
            "Requirement already satisfied, skipping upgrade: preshed<3.1.0,>=3.0.2 in /usr/local/lib/python3.7/dist-packages (from spacy<4->fastai) (3.0.5)\n",
            "Requirement already satisfied, skipping upgrade: blis<0.5.0,>=0.4.0 in /usr/local/lib/python3.7/dist-packages (from spacy<4->fastai) (0.4.1)\n",
            "Requirement already satisfied, skipping upgrade: plac<1.2.0,>=0.9.6 in /usr/local/lib/python3.7/dist-packages (from spacy<4->fastai) (1.1.3)\n",
            "Requirement already satisfied, skipping upgrade: pytz>=2017.2 in /usr/local/lib/python3.7/dist-packages (from pandas->fastai) (2018.9)\n",
            "Requirement already satisfied, skipping upgrade: six>=1.5 in /usr/local/lib/python3.7/dist-packages (from python-dateutil>=2.1->matplotlib->fastai) (1.15.0)\n",
            "Requirement already satisfied, skipping upgrade: importlib-metadata>=0.20; python_version < \"3.8\" in /usr/local/lib/python3.7/dist-packages (from catalogue<1.1.0,>=0.0.7->spacy<4->fastai) (4.0.1)\n",
            "Requirement already satisfied, skipping upgrade: zipp>=0.5 in /usr/local/lib/python3.7/dist-packages (from importlib-metadata>=0.20; python_version < \"3.8\"->catalogue<1.1.0,>=0.0.7->spacy<4->fastai) (3.4.1)\n"
          ],
          "name": "stdout"
        }
      ]
    },
    {
      "cell_type": "code",
      "metadata": {
        "colab": {
          "base_uri": "https://localhost:8080/"
        },
        "id": "qo1x6mOaR8zu",
        "outputId": "a81f27ab-ccf8-46d5-c19a-c0ae9866d1fe"
      },
      "source": [
        "from fastai.basics import *\n",
        "from fastai.vision import models\n",
        "from fastai.vision.all import *\n",
        "from fastai.metrics import *\n",
        "from fastai.data.all import *\n",
        "from fastai.callback import *\n",
        "\n",
        "\n",
        "from pathlib import Path\n",
        "import random\n",
        "from semtorch import get_segmentation_learner"
      ],
      "execution_count": 3,
      "outputs": [
        {
          "output_type": "stream",
          "text": [
            "/usr/local/lib/python3.7/dist-packages/torch/nn/_reduction.py:42: UserWarning: size_average and reduce args will be deprecated, please use reduction='mean' instead.\n",
            "  warnings.warn(warning.format(ret))\n"
          ],
          "name": "stderr"
        }
      ]
    },
    {
      "cell_type": "code",
      "metadata": {
        "colab": {
          "base_uri": "https://localhost:8080/"
        },
        "id": "IRcZTYvfSKRg",
        "outputId": "64ac4762-7553-41d1-af01-ef17b58ddb7b"
      },
      "source": [
        "!wget https://www.dropbox.com/s/78tojo8s8j70xbb/dataset_prueba_RIOJA.zip?dl=0 -O dataset.zip"
      ],
      "execution_count": 4,
      "outputs": [
        {
          "output_type": "stream",
          "text": [
            "--2021-05-29 09:09:26--  https://www.dropbox.com/s/78tojo8s8j70xbb/dataset_prueba_RIOJA.zip?dl=0\n",
            "Resolving www.dropbox.com (www.dropbox.com)... 162.125.1.18, 2620:100:6032:18::a27d:5212\n",
            "Connecting to www.dropbox.com (www.dropbox.com)|162.125.1.18|:443... connected.\n",
            "HTTP request sent, awaiting response... 301 Moved Permanently\n",
            "Location: /s/raw/78tojo8s8j70xbb/dataset_prueba_RIOJA.zip [following]\n",
            "--2021-05-29 09:09:26--  https://www.dropbox.com/s/raw/78tojo8s8j70xbb/dataset_prueba_RIOJA.zip\n",
            "Reusing existing connection to www.dropbox.com:443.\n",
            "HTTP request sent, awaiting response... 302 Found\n",
            "Location: https://uc4b57dbf26390ef922be6a03bff.dl.dropboxusercontent.com/cd/0/inline/BPb4uuWMPBX63vcVJsKryeg-TNXRbCV-eg0QXgITi_ZY6sjrMo-WqJCbDpItOKt3oKSrIvhUdjUkO0Rm7lfK5A5Bdhfv5J-QrC_EhOIsd5wd37056N5ejIhDbaB0BA6WMXFh-fYORlXyP_csrfgpILld/file# [following]\n",
            "--2021-05-29 09:09:26--  https://uc4b57dbf26390ef922be6a03bff.dl.dropboxusercontent.com/cd/0/inline/BPb4uuWMPBX63vcVJsKryeg-TNXRbCV-eg0QXgITi_ZY6sjrMo-WqJCbDpItOKt3oKSrIvhUdjUkO0Rm7lfK5A5Bdhfv5J-QrC_EhOIsd5wd37056N5ejIhDbaB0BA6WMXFh-fYORlXyP_csrfgpILld/file\n",
            "Resolving uc4b57dbf26390ef922be6a03bff.dl.dropboxusercontent.com (uc4b57dbf26390ef922be6a03bff.dl.dropboxusercontent.com)... 162.125.1.15, 2620:100:6032:15::a27d:520f\n",
            "Connecting to uc4b57dbf26390ef922be6a03bff.dl.dropboxusercontent.com (uc4b57dbf26390ef922be6a03bff.dl.dropboxusercontent.com)|162.125.1.15|:443... connected.\n",
            "HTTP request sent, awaiting response... 302 Found\n",
            "Location: /cd/0/inline2/BPbsV4Mf9xEk5ZHnwnfhuAf48v5EADU-BQ0Z_jlhSkn63ZNAnFKRdVKISuUUJ8MBBS-wPWc4RABHvNhWWkj9U8SDh8nats-H0O5ob407GPq-oUNJck9jegBYng5KIfooNnIUwPc7bRWpYy5RW55flxQDkvtExlg0eptOAGCPo7qx-ng1-0QaYsncvEYG2IfROR1Vtu0kM6QqtM645drJCKYDoH5eCvTIHHPCwITzjAkfTzP4COUB6qj5BgIWRoHFLckIhXtSwoUO6AVtRXoSkqItrsK9K9FuQE3U82EhSsG5G9YE5eWcLwug0uVS3S6aT6wAI4ELvIqWTzlzemnnfmbq6tG_VXFbti0d8pHNxP4XGfJA1jN4oMOC39n4jEF04JA/file [following]\n",
            "--2021-05-29 09:09:27--  https://uc4b57dbf26390ef922be6a03bff.dl.dropboxusercontent.com/cd/0/inline2/BPbsV4Mf9xEk5ZHnwnfhuAf48v5EADU-BQ0Z_jlhSkn63ZNAnFKRdVKISuUUJ8MBBS-wPWc4RABHvNhWWkj9U8SDh8nats-H0O5ob407GPq-oUNJck9jegBYng5KIfooNnIUwPc7bRWpYy5RW55flxQDkvtExlg0eptOAGCPo7qx-ng1-0QaYsncvEYG2IfROR1Vtu0kM6QqtM645drJCKYDoH5eCvTIHHPCwITzjAkfTzP4COUB6qj5BgIWRoHFLckIhXtSwoUO6AVtRXoSkqItrsK9K9FuQE3U82EhSsG5G9YE5eWcLwug0uVS3S6aT6wAI4ELvIqWTzlzemnnfmbq6tG_VXFbti0d8pHNxP4XGfJA1jN4oMOC39n4jEF04JA/file\n",
            "Reusing existing connection to uc4b57dbf26390ef922be6a03bff.dl.dropboxusercontent.com:443.\n",
            "HTTP request sent, awaiting response... 200 OK\n",
            "Length: 60935656 (58M) [application/zip]\n",
            "Saving to: ‘dataset.zip’\n",
            "\n",
            "dataset.zip         100%[===================>]  58.11M  90.3MB/s    in 0.6s    \n",
            "\n",
            "2021-05-29 09:09:28 (90.3 MB/s) - ‘dataset.zip’ saved [60935656/60935656]\n",
            "\n"
          ],
          "name": "stdout"
        }
      ]
    },
    {
      "cell_type": "code",
      "metadata": {
        "colab": {
          "base_uri": "https://localhost:8080/"
        },
        "id": "2qOfnVEdSUXZ",
        "outputId": "e9ebc4da-3d6c-4eb1-8f0e-88133b939814"
      },
      "source": [
        "!unzip dataset.zip"
      ],
      "execution_count": 5,
      "outputs": [
        {
          "output_type": "stream",
          "text": [
            "Archive:  dataset.zip\n",
            "   creating: dataset_prueba_RIOJA/\n",
            " extracting: dataset_prueba_RIOJA/codes.txt  \n",
            "   creating: dataset_prueba_RIOJA/Images/\n",
            "   creating: dataset_prueba_RIOJA/Images/test/\n",
            " extracting: dataset_prueba_RIOJA/Images/test/ortofoto_ortofoto-2014_182082.jpg  \n",
            "   creating: dataset_prueba_RIOJA/Images/train/\n",
            "  inflating: dataset_prueba_RIOJA/Images/train/22678915_15.tiff  \n",
            "  inflating: dataset_prueba_RIOJA/Images/train/22678930_15.tiff  \n",
            "  inflating: dataset_prueba_RIOJA/Images/train/22678945_15.tiff  \n",
            "  inflating: dataset_prueba_RIOJA/Images/train/22678960_15.tiff  \n",
            "  inflating: dataset_prueba_RIOJA/Images/train/22678975_15.tiff  \n",
            "  inflating: dataset_prueba_RIOJA/Images/train/22678990_15.tiff  \n",
            "  inflating: dataset_prueba_RIOJA/Images/train/22679005_15.tiff  \n",
            "  inflating: dataset_prueba_RIOJA/Images/train/22679020_15.tiff  \n",
            "   creating: dataset_prueba_RIOJA/Images/val/\n",
            "  inflating: dataset_prueba_RIOJA/Images/val/22978945_15.tiff  \n",
            "  inflating: dataset_prueba_RIOJA/Images/val/23429155_15.tiff  \n",
            "   creating: dataset_prueba_RIOJA/Labels/\n",
            "   creating: dataset_prueba_RIOJA/Labels/test/\n",
            "   creating: dataset_prueba_RIOJA/Labels/train/\n",
            "  inflating: dataset_prueba_RIOJA/Labels/train/22678915_15.tif  \n",
            "  inflating: dataset_prueba_RIOJA/Labels/train/22678930_15.tif  \n",
            "  inflating: dataset_prueba_RIOJA/Labels/train/22678945_15.tif  \n",
            "  inflating: dataset_prueba_RIOJA/Labels/train/22678960_15.tif  \n",
            "  inflating: dataset_prueba_RIOJA/Labels/train/22678975_15.tif  \n",
            "  inflating: dataset_prueba_RIOJA/Labels/train/22678990_15.tif  \n",
            "  inflating: dataset_prueba_RIOJA/Labels/train/22679005_15.tif  \n",
            "  inflating: dataset_prueba_RIOJA/Labels/train/22679020_15.tif  \n",
            "   creating: dataset_prueba_RIOJA/Labels/val/\n",
            "  inflating: dataset_prueba_RIOJA/Labels/val/22978945_15.tif  \n",
            "  inflating: dataset_prueba_RIOJA/Labels/val/23429155_15.tif  \n"
          ],
          "name": "stdout"
        }
      ]
    },
    {
      "cell_type": "code",
      "metadata": {
        "id": "BBL7mXP4SXKZ"
      },
      "source": [
        "path=Path('dataset_prueba_RIOJA/')"
      ],
      "execution_count": 6,
      "outputs": []
    },
    {
      "cell_type": "code",
      "metadata": {
        "id": "DjzmhGHFSYJU"
      },
      "source": [
        "import cv2\n",
        "import matplotlib.pyplot as plt\n",
        "import numpy as np\n",
        "%matplotlib inline"
      ],
      "execution_count": 7,
      "outputs": []
    },
    {
      "cell_type": "code",
      "metadata": {
        "colab": {
          "base_uri": "https://localhost:8080/"
        },
        "id": "wv4YdWQUSkbH",
        "outputId": "a31d4280-cacd-4b1d-ede9-5b0dbaad628c"
      },
      "source": [
        "imagen = cv2.imread('dataset_prueba_RIOJA/Images/test/foto1.jpg', cv2.IMREAD_UNCHANGED)\n",
        "dsize = (1500, 1500)\n",
        "output = cv2.resize(imagen, dsize)\n",
        "cv2.imwrite('dataset_prueba_RIOJA/Images/test/foto1.jpg', output) "
      ],
      "execution_count": 8,
      "outputs": [
        {
          "output_type": "execute_result",
          "data": {
            "text/plain": [
              "True"
            ]
          },
          "metadata": {
            "tags": []
          },
          "execution_count": 8
        }
      ]
    },
    {
      "cell_type": "code",
      "metadata": {
        "colab": {
          "base_uri": "https://localhost:8080/"
        },
        "id": "WCz54J3sX6Dg",
        "outputId": "4ad66dd7-f596-45f1-8146-7be811e0f793"
      },
      "source": [
        "output.shape"
      ],
      "execution_count": 9,
      "outputs": [
        {
          "output_type": "execute_result",
          "data": {
            "text/plain": [
              "(1500, 1500, 3)"
            ]
          },
          "metadata": {
            "tags": []
          },
          "execution_count": 9
        }
      ]
    },
    {
      "cell_type": "code",
      "metadata": {
        "id": "Lj3q-cjtSa2L"
      },
      "source": [
        "import os\n",
        "\n",
        "def recortar_en_trozos(imagen_ruta, altoyancho):\n",
        "  imagen = cv2.imread(imagen_ruta)\n",
        "  nombre = imagen_ruta.split('/')[3]\n",
        "  carpeta2 = imagen_ruta.split('/')[2]\n",
        "  carpeta1 = imagen_ruta.split('/')[1]\n",
        "  extension = nombre.split('.')\n",
        "  ancho = altoyancho\n",
        "  alto = altoyancho\n",
        "  i = 0\n",
        "  for y in range(0,1500,300):\n",
        "    for x in range(0,1500,300):\n",
        "      i = i + 1\n",
        "      recorte = imagen[y:y+altoyancho, x:x+altoyancho]\n",
        "      cv2.imwrite('dataset_prueba_RIOJA/'+ carpeta1 + '/' + carpeta2 +'/' + extension[0] + '_' + str(i) + '.'+ extension[1], recorte)\n",
        "  \n",
        "  os.remove(imagen_ruta)"
      ],
      "execution_count": 10,
      "outputs": []
    },
    {
      "cell_type": "code",
      "metadata": {
        "id": "yjFA2ZQfVmkO"
      },
      "source": [
        "recortar_en_trozos('dataset_prueba_RIOJA/Images/test/foto1.jpg', 300)"
      ],
      "execution_count": 11,
      "outputs": []
    },
    {
      "cell_type": "code",
      "metadata": {
        "id": "Ir8qK-BNa-rC"
      },
      "source": [
        ""
      ],
      "execution_count": null,
      "outputs": []
    }
  ]
}